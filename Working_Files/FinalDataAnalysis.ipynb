{
 "cells": [
  {
   "cell_type": "code",
   "execution_count": 1,
   "metadata": {},
   "outputs": [],
   "source": [
    "# Import libraries and dependencies\n",
    "import numpy as np\n",
    "import pandas as pd\n",
    "import yfinance as yf\n",
    "import matplotlib.pyplot as plt\n",
    "import datetime\n",
    "import os\n",
    "import quandl as ql\n",
    "\n",
    "\n",
    "%matplotlib inline"
   ]
  },
  {
   "cell_type": "code",
   "execution_count": 2,
   "metadata": {},
   "outputs": [
    {
     "data": {
      "text/plain": [
       "True"
      ]
     },
     "execution_count": 2,
     "metadata": {},
     "output_type": "execute_result"
    }
   ],
   "source": [
    "from dotenv import load_dotenv\n",
    "load_dotenv()"
   ]
  },
  {
   "cell_type": "code",
   "execution_count": 3,
   "metadata": {},
   "outputs": [],
   "source": [
    "QUANDL_KEY = os.getenv(\"QUANDL_KEY\")"
   ]
  },
  {
   "cell_type": "code",
   "execution_count": 4,
   "metadata": {},
   "outputs": [],
   "source": [
    "ql.ApiConfig.api_key = QUANDL_KEY"
   ]
  },
  {
   "cell_type": "code",
   "execution_count": 5,
   "metadata": {},
   "outputs": [],
   "source": [
    "def cleanData(df, asset_class, security):\n",
    "    cleaned_df = df[['Noncommercial Long', 'Noncommercial Short']]\n",
    "    cleaned_df['Net_Noncommercial_Positions'] = cleaned_df['Noncommercial Long'] - cleaned_df['Noncommercial Short']\n",
    "    cleaned_df['Asset_Class'] = asset_class\n",
    "    cleaned_df['Security'] = security\n",
    "    return cleaned_df[['Asset_Class','Security','Net_Noncommercial_Positions']]\n"
   ]
  },
  {
   "cell_type": "code",
   "execution_count": 6,
   "metadata": {},
   "outputs": [],
   "source": [
    "def get_stats(df, window):\n",
    "    roling_df = df.rolling(window=window)\n",
    "    mean = roling_df.mean().shift(1)\n",
    "    std = roling_df.std(ddof=0).shift(1)\n",
    "    z_score = (df-mean)/std\n",
    "    return mean, std, z_score"
   ]
  },
  {
   "cell_type": "code",
   "execution_count": 7,
   "metadata": {},
   "outputs": [],
   "source": [
    "def get_stats_multi_interval(df, windows):\n",
    "    df_temp = pd.DataFrame()\n",
    "    for window in windows: \n",
    "        roling_df = df.rolling(window=window)\n",
    "        mean = roling_df.mean().shift(1)\n",
    "        std = roling_df.std(ddof=0).shift(1)\n",
    "        z_score = (df-mean)/std\n",
    "        df_temp[f\"z_score_{window//52} years\"] = z_score\n",
    "    return df_temp"
   ]
  },
  {
   "cell_type": "code",
   "execution_count": 8,
   "metadata": {},
   "outputs": [],
   "source": [
    "def get_historical_stats(df):\n",
    "    Average = df['Net_Noncommercial_Positions'].mean()\n",
    "    x = np.array(df['Net_Noncommercial_Positions'])\n",
    "    std_historical = x.std()\n",
    "\n",
    "    z_score_historical = ((df['Net_Noncommercial_Positions'][-1]) - Average)/std_historical\n",
    "    return Average, std_historical, z_score_historical"
   ]
  },
  {
   "cell_type": "code",
   "execution_count": 9,
   "metadata": {},
   "outputs": [],
   "source": [
    "def createSummaryDF(df, interval):\n",
    "    #df = df.reset_index()\n",
    "    summary_df = pd.DataFrame()\n",
    "    for i in range(len(df.index)):\n",
    "        if i > interval and i % interval == 0:\n",
    "            summary_df = summary_df.append(df.iloc[i])\n",
    "    return summary_df"
   ]
  },
  {
   "cell_type": "markdown",
   "metadata": {},
   "source": [
    "# EUR Analysis"
   ]
  },
  {
   "cell_type": "code",
   "execution_count": 10,
   "metadata": {},
   "outputs": [
    {
     "name": "stderr",
     "output_type": "stream",
     "text": [
      "C:\\Users\\savag\\anaconda3\\envs\\dev\\lib\\site-packages\\ipykernel_launcher.py:3: SettingWithCopyWarning: \n",
      "A value is trying to be set on a copy of a slice from a DataFrame.\n",
      "Try using .loc[row_indexer,col_indexer] = value instead\n",
      "\n",
      "See the caveats in the documentation: https://pandas.pydata.org/pandas-docs/stable/user_guide/indexing.html#returning-a-view-versus-a-copy\n",
      "  This is separate from the ipykernel package so we can avoid doing imports until\n",
      "C:\\Users\\savag\\anaconda3\\envs\\dev\\lib\\site-packages\\ipykernel_launcher.py:4: SettingWithCopyWarning: \n",
      "A value is trying to be set on a copy of a slice from a DataFrame.\n",
      "Try using .loc[row_indexer,col_indexer] = value instead\n",
      "\n",
      "See the caveats in the documentation: https://pandas.pydata.org/pandas-docs/stable/user_guide/indexing.html#returning-a-view-versus-a-copy\n",
      "  after removing the cwd from sys.path.\n",
      "C:\\Users\\savag\\anaconda3\\envs\\dev\\lib\\site-packages\\ipykernel_launcher.py:5: SettingWithCopyWarning: \n",
      "A value is trying to be set on a copy of a slice from a DataFrame.\n",
      "Try using .loc[row_indexer,col_indexer] = value instead\n",
      "\n",
      "See the caveats in the documentation: https://pandas.pydata.org/pandas-docs/stable/user_guide/indexing.html#returning-a-view-versus-a-copy\n",
      "  \"\"\"\n"
     ]
    }
   ],
   "source": [
    "data = ql.get('CFTC/099741_FO_L_ALL')\n",
    "interval = 52*3\n",
    "data_cleaned = cleanData(data, \"Currency\", 'EURO')\n",
    "stats_df = get_stats_multi_interval(data_cleaned.loc[:,'Net_Noncommercial_Positions'],[52,52*3,52*5,52*10])\n",
    "df_concate = pd.concat([data_cleaned,stats_df], join='inner', axis=1)\n",
    "summary_df = df_concate.last('1d')\n",
    "eur_data = summary_df"
   ]
  },
  {
   "cell_type": "markdown",
   "metadata": {},
   "source": [
    "# USD Analysis"
   ]
  },
  {
   "cell_type": "code",
   "execution_count": 11,
   "metadata": {},
   "outputs": [
    {
     "name": "stderr",
     "output_type": "stream",
     "text": [
      "C:\\Users\\savag\\anaconda3\\envs\\dev\\lib\\site-packages\\ipykernel_launcher.py:3: SettingWithCopyWarning: \n",
      "A value is trying to be set on a copy of a slice from a DataFrame.\n",
      "Try using .loc[row_indexer,col_indexer] = value instead\n",
      "\n",
      "See the caveats in the documentation: https://pandas.pydata.org/pandas-docs/stable/user_guide/indexing.html#returning-a-view-versus-a-copy\n",
      "  This is separate from the ipykernel package so we can avoid doing imports until\n",
      "C:\\Users\\savag\\anaconda3\\envs\\dev\\lib\\site-packages\\ipykernel_launcher.py:4: SettingWithCopyWarning: \n",
      "A value is trying to be set on a copy of a slice from a DataFrame.\n",
      "Try using .loc[row_indexer,col_indexer] = value instead\n",
      "\n",
      "See the caveats in the documentation: https://pandas.pydata.org/pandas-docs/stable/user_guide/indexing.html#returning-a-view-versus-a-copy\n",
      "  after removing the cwd from sys.path.\n",
      "C:\\Users\\savag\\anaconda3\\envs\\dev\\lib\\site-packages\\ipykernel_launcher.py:5: SettingWithCopyWarning: \n",
      "A value is trying to be set on a copy of a slice from a DataFrame.\n",
      "Try using .loc[row_indexer,col_indexer] = value instead\n",
      "\n",
      "See the caveats in the documentation: https://pandas.pydata.org/pandas-docs/stable/user_guide/indexing.html#returning-a-view-versus-a-copy\n",
      "  \"\"\"\n"
     ]
    }
   ],
   "source": [
    "data = ql.get('CFTC/098662_FO_L_ALL')\n",
    "interval = 52*3\n",
    "data_cleaned = cleanData(data, \"Currency\", 'USD')\n",
    "stats_df = get_stats_multi_interval(data_cleaned.loc[:,'Net_Noncommercial_Positions'],[52,52*3,52*5,52*10])\n",
    "df_concate = pd.concat([data_cleaned,stats_df], join='inner', axis=1)\n",
    "summary_df = df_concate.last('1d')\n",
    "usd_data = summary_df"
   ]
  },
  {
   "cell_type": "markdown",
   "metadata": {},
   "source": [
    "# CAD Analysis"
   ]
  },
  {
   "cell_type": "code",
   "execution_count": 12,
   "metadata": {},
   "outputs": [
    {
     "name": "stderr",
     "output_type": "stream",
     "text": [
      "C:\\Users\\savag\\anaconda3\\envs\\dev\\lib\\site-packages\\ipykernel_launcher.py:3: SettingWithCopyWarning: \n",
      "A value is trying to be set on a copy of a slice from a DataFrame.\n",
      "Try using .loc[row_indexer,col_indexer] = value instead\n",
      "\n",
      "See the caveats in the documentation: https://pandas.pydata.org/pandas-docs/stable/user_guide/indexing.html#returning-a-view-versus-a-copy\n",
      "  This is separate from the ipykernel package so we can avoid doing imports until\n",
      "C:\\Users\\savag\\anaconda3\\envs\\dev\\lib\\site-packages\\ipykernel_launcher.py:4: SettingWithCopyWarning: \n",
      "A value is trying to be set on a copy of a slice from a DataFrame.\n",
      "Try using .loc[row_indexer,col_indexer] = value instead\n",
      "\n",
      "See the caveats in the documentation: https://pandas.pydata.org/pandas-docs/stable/user_guide/indexing.html#returning-a-view-versus-a-copy\n",
      "  after removing the cwd from sys.path.\n",
      "C:\\Users\\savag\\anaconda3\\envs\\dev\\lib\\site-packages\\ipykernel_launcher.py:5: SettingWithCopyWarning: \n",
      "A value is trying to be set on a copy of a slice from a DataFrame.\n",
      "Try using .loc[row_indexer,col_indexer] = value instead\n",
      "\n",
      "See the caveats in the documentation: https://pandas.pydata.org/pandas-docs/stable/user_guide/indexing.html#returning-a-view-versus-a-copy\n",
      "  \"\"\"\n"
     ]
    }
   ],
   "source": [
    "data = ql.get('CFTC/090741_FO_L_ALL')\n",
    "interval = 52*3\n",
    "data_cleaned = cleanData(data, \"Currency\", 'CAD')\n",
    "stats_df = get_stats_multi_interval(data_cleaned.loc[:,'Net_Noncommercial_Positions'],[52,52*3,52*5,52*10])\n",
    "df_concate = pd.concat([data_cleaned,stats_df], join='inner', axis=1)\n",
    "summary_df = df_concate.last('1d')\n",
    "cad_data = summary_df"
   ]
  },
  {
   "cell_type": "markdown",
   "metadata": {},
   "source": [
    "# AUD Analysis"
   ]
  },
  {
   "cell_type": "code",
   "execution_count": 13,
   "metadata": {},
   "outputs": [
    {
     "name": "stderr",
     "output_type": "stream",
     "text": [
      "C:\\Users\\savag\\anaconda3\\envs\\dev\\lib\\site-packages\\ipykernel_launcher.py:3: SettingWithCopyWarning: \n",
      "A value is trying to be set on a copy of a slice from a DataFrame.\n",
      "Try using .loc[row_indexer,col_indexer] = value instead\n",
      "\n",
      "See the caveats in the documentation: https://pandas.pydata.org/pandas-docs/stable/user_guide/indexing.html#returning-a-view-versus-a-copy\n",
      "  This is separate from the ipykernel package so we can avoid doing imports until\n",
      "C:\\Users\\savag\\anaconda3\\envs\\dev\\lib\\site-packages\\ipykernel_launcher.py:4: SettingWithCopyWarning: \n",
      "A value is trying to be set on a copy of a slice from a DataFrame.\n",
      "Try using .loc[row_indexer,col_indexer] = value instead\n",
      "\n",
      "See the caveats in the documentation: https://pandas.pydata.org/pandas-docs/stable/user_guide/indexing.html#returning-a-view-versus-a-copy\n",
      "  after removing the cwd from sys.path.\n",
      "C:\\Users\\savag\\anaconda3\\envs\\dev\\lib\\site-packages\\ipykernel_launcher.py:5: SettingWithCopyWarning: \n",
      "A value is trying to be set on a copy of a slice from a DataFrame.\n",
      "Try using .loc[row_indexer,col_indexer] = value instead\n",
      "\n",
      "See the caveats in the documentation: https://pandas.pydata.org/pandas-docs/stable/user_guide/indexing.html#returning-a-view-versus-a-copy\n",
      "  \"\"\"\n"
     ]
    }
   ],
   "source": [
    "data = ql.get('CFTC/232741_FO_L_ALL')\n",
    "interval = 52*3\n",
    "data_cleaned = cleanData(data, \"Currency\", 'AUD')\n",
    "stats_df = get_stats_multi_interval(data_cleaned.loc[:,'Net_Noncommercial_Positions'],[52,52*3,52*5,52*10])\n",
    "df_concate = pd.concat([data_cleaned,stats_df], join='inner', axis=1)\n",
    "summary_df = df_concate.last('1d')\n",
    "aud_data = summary_df"
   ]
  },
  {
   "cell_type": "markdown",
   "metadata": {},
   "source": [
    "# Gold Analysis"
   ]
  },
  {
   "cell_type": "code",
   "execution_count": 14,
   "metadata": {},
   "outputs": [
    {
     "name": "stderr",
     "output_type": "stream",
     "text": [
      "C:\\Users\\savag\\anaconda3\\envs\\dev\\lib\\site-packages\\ipykernel_launcher.py:3: SettingWithCopyWarning: \n",
      "A value is trying to be set on a copy of a slice from a DataFrame.\n",
      "Try using .loc[row_indexer,col_indexer] = value instead\n",
      "\n",
      "See the caveats in the documentation: https://pandas.pydata.org/pandas-docs/stable/user_guide/indexing.html#returning-a-view-versus-a-copy\n",
      "  This is separate from the ipykernel package so we can avoid doing imports until\n",
      "C:\\Users\\savag\\anaconda3\\envs\\dev\\lib\\site-packages\\ipykernel_launcher.py:4: SettingWithCopyWarning: \n",
      "A value is trying to be set on a copy of a slice from a DataFrame.\n",
      "Try using .loc[row_indexer,col_indexer] = value instead\n",
      "\n",
      "See the caveats in the documentation: https://pandas.pydata.org/pandas-docs/stable/user_guide/indexing.html#returning-a-view-versus-a-copy\n",
      "  after removing the cwd from sys.path.\n",
      "C:\\Users\\savag\\anaconda3\\envs\\dev\\lib\\site-packages\\ipykernel_launcher.py:5: SettingWithCopyWarning: \n",
      "A value is trying to be set on a copy of a slice from a DataFrame.\n",
      "Try using .loc[row_indexer,col_indexer] = value instead\n",
      "\n",
      "See the caveats in the documentation: https://pandas.pydata.org/pandas-docs/stable/user_guide/indexing.html#returning-a-view-versus-a-copy\n",
      "  \"\"\"\n"
     ]
    }
   ],
   "source": [
    "data = ql.get('CFTC/088691_FO_L_ALL')\n",
    "interval = 52*3\n",
    "data_cleaned = cleanData(data, \"Commodity\", 'Gold')\n",
    "stats_df = get_stats_multi_interval(data_cleaned.loc[:,'Net_Noncommercial_Positions'],[52,52*3,52*5,52*10])\n",
    "df_concate = pd.concat([data_cleaned,stats_df], join='inner', axis=1)\n",
    "summary_df = df_concate.last('1d')\n",
    "gold_data = summary_df"
   ]
  },
  {
   "cell_type": "markdown",
   "metadata": {},
   "source": [
    "# Silver Analysis"
   ]
  },
  {
   "cell_type": "code",
   "execution_count": 15,
   "metadata": {},
   "outputs": [
    {
     "name": "stderr",
     "output_type": "stream",
     "text": [
      "C:\\Users\\savag\\anaconda3\\envs\\dev\\lib\\site-packages\\ipykernel_launcher.py:3: SettingWithCopyWarning: \n",
      "A value is trying to be set on a copy of a slice from a DataFrame.\n",
      "Try using .loc[row_indexer,col_indexer] = value instead\n",
      "\n",
      "See the caveats in the documentation: https://pandas.pydata.org/pandas-docs/stable/user_guide/indexing.html#returning-a-view-versus-a-copy\n",
      "  This is separate from the ipykernel package so we can avoid doing imports until\n",
      "C:\\Users\\savag\\anaconda3\\envs\\dev\\lib\\site-packages\\ipykernel_launcher.py:4: SettingWithCopyWarning: \n",
      "A value is trying to be set on a copy of a slice from a DataFrame.\n",
      "Try using .loc[row_indexer,col_indexer] = value instead\n",
      "\n",
      "See the caveats in the documentation: https://pandas.pydata.org/pandas-docs/stable/user_guide/indexing.html#returning-a-view-versus-a-copy\n",
      "  after removing the cwd from sys.path.\n",
      "C:\\Users\\savag\\anaconda3\\envs\\dev\\lib\\site-packages\\ipykernel_launcher.py:5: SettingWithCopyWarning: \n",
      "A value is trying to be set on a copy of a slice from a DataFrame.\n",
      "Try using .loc[row_indexer,col_indexer] = value instead\n",
      "\n",
      "See the caveats in the documentation: https://pandas.pydata.org/pandas-docs/stable/user_guide/indexing.html#returning-a-view-versus-a-copy\n",
      "  \"\"\"\n"
     ]
    }
   ],
   "source": [
    "data = ql.get('CFTC/084691_FO_L_ALL')\n",
    "interval = 52*3\n",
    "data_cleaned = cleanData(data, \"Commodity\", 'Silver')\n",
    "stats_df = get_stats_multi_interval(data_cleaned.loc[:,'Net_Noncommercial_Positions'],[52,52*3,52*5,52*10])\n",
    "df_concate = pd.concat([data_cleaned,stats_df], join='inner', axis=1)\n",
    "summary_df = df_concate.last('1d')\n",
    "silver_data = summary_df"
   ]
  },
  {
   "cell_type": "markdown",
   "metadata": {},
   "source": [
    "# Copper Analysis"
   ]
  },
  {
   "cell_type": "code",
   "execution_count": 16,
   "metadata": {},
   "outputs": [
    {
     "name": "stderr",
     "output_type": "stream",
     "text": [
      "C:\\Users\\savag\\anaconda3\\envs\\dev\\lib\\site-packages\\ipykernel_launcher.py:3: SettingWithCopyWarning: \n",
      "A value is trying to be set on a copy of a slice from a DataFrame.\n",
      "Try using .loc[row_indexer,col_indexer] = value instead\n",
      "\n",
      "See the caveats in the documentation: https://pandas.pydata.org/pandas-docs/stable/user_guide/indexing.html#returning-a-view-versus-a-copy\n",
      "  This is separate from the ipykernel package so we can avoid doing imports until\n",
      "C:\\Users\\savag\\anaconda3\\envs\\dev\\lib\\site-packages\\ipykernel_launcher.py:4: SettingWithCopyWarning: \n",
      "A value is trying to be set on a copy of a slice from a DataFrame.\n",
      "Try using .loc[row_indexer,col_indexer] = value instead\n",
      "\n",
      "See the caveats in the documentation: https://pandas.pydata.org/pandas-docs/stable/user_guide/indexing.html#returning-a-view-versus-a-copy\n",
      "  after removing the cwd from sys.path.\n",
      "C:\\Users\\savag\\anaconda3\\envs\\dev\\lib\\site-packages\\ipykernel_launcher.py:5: SettingWithCopyWarning: \n",
      "A value is trying to be set on a copy of a slice from a DataFrame.\n",
      "Try using .loc[row_indexer,col_indexer] = value instead\n",
      "\n",
      "See the caveats in the documentation: https://pandas.pydata.org/pandas-docs/stable/user_guide/indexing.html#returning-a-view-versus-a-copy\n",
      "  \"\"\"\n"
     ]
    }
   ],
   "source": [
    "data = ql.get('CFTC/085692_FO_L_ALL')\n",
    "interval = 52*3\n",
    "data_cleaned = cleanData(data, \"Commodity\", 'Copper')\n",
    "stats_df = get_stats_multi_interval(data_cleaned.loc[:,'Net_Noncommercial_Positions'],[52,52*3,52*5,52*10])\n",
    "df_concate = pd.concat([data_cleaned,stats_df], join='inner', axis=1)\n",
    "summary_df = df_concate.last('1d')\n",
    "copper_data = summary_df"
   ]
  },
  {
   "cell_type": "markdown",
   "metadata": {},
   "source": [
    "# NASDAQ Analysis"
   ]
  },
  {
   "cell_type": "code",
   "execution_count": 17,
   "metadata": {},
   "outputs": [
    {
     "name": "stderr",
     "output_type": "stream",
     "text": [
      "C:\\Users\\savag\\anaconda3\\envs\\dev\\lib\\site-packages\\ipykernel_launcher.py:3: SettingWithCopyWarning: \n",
      "A value is trying to be set on a copy of a slice from a DataFrame.\n",
      "Try using .loc[row_indexer,col_indexer] = value instead\n",
      "\n",
      "See the caveats in the documentation: https://pandas.pydata.org/pandas-docs/stable/user_guide/indexing.html#returning-a-view-versus-a-copy\n",
      "  This is separate from the ipykernel package so we can avoid doing imports until\n",
      "C:\\Users\\savag\\anaconda3\\envs\\dev\\lib\\site-packages\\ipykernel_launcher.py:4: SettingWithCopyWarning: \n",
      "A value is trying to be set on a copy of a slice from a DataFrame.\n",
      "Try using .loc[row_indexer,col_indexer] = value instead\n",
      "\n",
      "See the caveats in the documentation: https://pandas.pydata.org/pandas-docs/stable/user_guide/indexing.html#returning-a-view-versus-a-copy\n",
      "  after removing the cwd from sys.path.\n",
      "C:\\Users\\savag\\anaconda3\\envs\\dev\\lib\\site-packages\\ipykernel_launcher.py:5: SettingWithCopyWarning: \n",
      "A value is trying to be set on a copy of a slice from a DataFrame.\n",
      "Try using .loc[row_indexer,col_indexer] = value instead\n",
      "\n",
      "See the caveats in the documentation: https://pandas.pydata.org/pandas-docs/stable/user_guide/indexing.html#returning-a-view-versus-a-copy\n",
      "  \"\"\"\n"
     ]
    }
   ],
   "source": [
    "data = ql.get('CFTC/209742_FO_L_ALL')\n",
    "interval = 52*3\n",
    "data_cleaned = cleanData(data, \"Equities\", 'NASDAQ')\n",
    "stats_df = get_stats_multi_interval(data_cleaned.loc[:,'Net_Noncommercial_Positions'],[52,52*3,52*5,52*10])\n",
    "df_concate = pd.concat([data_cleaned,stats_df], join='inner', axis=1)\n",
    "summary_df = df_concate.last('1d')\n",
    "nasdaq_data = summary_df"
   ]
  },
  {
   "cell_type": "markdown",
   "metadata": {},
   "source": [
    "# S&P500 Analysis"
   ]
  },
  {
   "cell_type": "code",
   "execution_count": 18,
   "metadata": {},
   "outputs": [
    {
     "name": "stderr",
     "output_type": "stream",
     "text": [
      "C:\\Users\\savag\\anaconda3\\envs\\dev\\lib\\site-packages\\ipykernel_launcher.py:3: SettingWithCopyWarning: \n",
      "A value is trying to be set on a copy of a slice from a DataFrame.\n",
      "Try using .loc[row_indexer,col_indexer] = value instead\n",
      "\n",
      "See the caveats in the documentation: https://pandas.pydata.org/pandas-docs/stable/user_guide/indexing.html#returning-a-view-versus-a-copy\n",
      "  This is separate from the ipykernel package so we can avoid doing imports until\n",
      "C:\\Users\\savag\\anaconda3\\envs\\dev\\lib\\site-packages\\ipykernel_launcher.py:4: SettingWithCopyWarning: \n",
      "A value is trying to be set on a copy of a slice from a DataFrame.\n",
      "Try using .loc[row_indexer,col_indexer] = value instead\n",
      "\n",
      "See the caveats in the documentation: https://pandas.pydata.org/pandas-docs/stable/user_guide/indexing.html#returning-a-view-versus-a-copy\n",
      "  after removing the cwd from sys.path.\n",
      "C:\\Users\\savag\\anaconda3\\envs\\dev\\lib\\site-packages\\ipykernel_launcher.py:5: SettingWithCopyWarning: \n",
      "A value is trying to be set on a copy of a slice from a DataFrame.\n",
      "Try using .loc[row_indexer,col_indexer] = value instead\n",
      "\n",
      "See the caveats in the documentation: https://pandas.pydata.org/pandas-docs/stable/user_guide/indexing.html#returning-a-view-versus-a-copy\n",
      "  \"\"\"\n"
     ]
    }
   ],
   "source": [
    "data = ql.get('CFTC/138741_FO_L_ALL')\n",
    "interval = 52*3\n",
    "data_cleaned = cleanData(data, \"Equities\", 'S&P500')\n",
    "stats_df = get_stats_multi_interval(data_cleaned.loc[:,'Net_Noncommercial_Positions'],[52,52*3,52*5,52*10])\n",
    "df_concate = pd.concat([data_cleaned,stats_df], join='inner', axis=1)\n",
    "summary_df = df_concate.last('1d')\n",
    "sp500_data = summary_df"
   ]
  },
  {
   "cell_type": "markdown",
   "metadata": {},
   "source": [
    "# 10 Year US Treasury Bond Analysis"
   ]
  },
  {
   "cell_type": "code",
   "execution_count": 19,
   "metadata": {},
   "outputs": [
    {
     "name": "stderr",
     "output_type": "stream",
     "text": [
      "C:\\Users\\savag\\anaconda3\\envs\\dev\\lib\\site-packages\\ipykernel_launcher.py:3: SettingWithCopyWarning: \n",
      "A value is trying to be set on a copy of a slice from a DataFrame.\n",
      "Try using .loc[row_indexer,col_indexer] = value instead\n",
      "\n",
      "See the caveats in the documentation: https://pandas.pydata.org/pandas-docs/stable/user_guide/indexing.html#returning-a-view-versus-a-copy\n",
      "  This is separate from the ipykernel package so we can avoid doing imports until\n",
      "C:\\Users\\savag\\anaconda3\\envs\\dev\\lib\\site-packages\\ipykernel_launcher.py:4: SettingWithCopyWarning: \n",
      "A value is trying to be set on a copy of a slice from a DataFrame.\n",
      "Try using .loc[row_indexer,col_indexer] = value instead\n",
      "\n",
      "See the caveats in the documentation: https://pandas.pydata.org/pandas-docs/stable/user_guide/indexing.html#returning-a-view-versus-a-copy\n",
      "  after removing the cwd from sys.path.\n",
      "C:\\Users\\savag\\anaconda3\\envs\\dev\\lib\\site-packages\\ipykernel_launcher.py:5: SettingWithCopyWarning: \n",
      "A value is trying to be set on a copy of a slice from a DataFrame.\n",
      "Try using .loc[row_indexer,col_indexer] = value instead\n",
      "\n",
      "See the caveats in the documentation: https://pandas.pydata.org/pandas-docs/stable/user_guide/indexing.html#returning-a-view-versus-a-copy\n",
      "  \"\"\"\n"
     ]
    }
   ],
   "source": [
    "data = ql.get('CFTC/043602_FO_L_ALL')\n",
    "interval = 52*3\n",
    "data_cleaned = cleanData(data, \"Fixed Income\", '10 yr US Treasury')\n",
    "stats_df = get_stats_multi_interval(data_cleaned.loc[:,'Net_Noncommercial_Positions'],[52,52*3,52*5,52*10])\n",
    "df_concate = pd.concat([data_cleaned,stats_df], join='inner', axis=1)\n",
    "summary_df = df_concate.last('1d')\n",
    "UST_10_data = summary_df"
   ]
  },
  {
   "cell_type": "markdown",
   "metadata": {},
   "source": [
    "# Bitcoin Analysis"
   ]
  },
  {
   "cell_type": "code",
   "execution_count": 20,
   "metadata": {},
   "outputs": [
    {
     "name": "stderr",
     "output_type": "stream",
     "text": [
      "C:\\Users\\savag\\anaconda3\\envs\\dev\\lib\\site-packages\\ipykernel_launcher.py:3: SettingWithCopyWarning: \n",
      "A value is trying to be set on a copy of a slice from a DataFrame.\n",
      "Try using .loc[row_indexer,col_indexer] = value instead\n",
      "\n",
      "See the caveats in the documentation: https://pandas.pydata.org/pandas-docs/stable/user_guide/indexing.html#returning-a-view-versus-a-copy\n",
      "  This is separate from the ipykernel package so we can avoid doing imports until\n",
      "C:\\Users\\savag\\anaconda3\\envs\\dev\\lib\\site-packages\\ipykernel_launcher.py:4: SettingWithCopyWarning: \n",
      "A value is trying to be set on a copy of a slice from a DataFrame.\n",
      "Try using .loc[row_indexer,col_indexer] = value instead\n",
      "\n",
      "See the caveats in the documentation: https://pandas.pydata.org/pandas-docs/stable/user_guide/indexing.html#returning-a-view-versus-a-copy\n",
      "  after removing the cwd from sys.path.\n",
      "C:\\Users\\savag\\anaconda3\\envs\\dev\\lib\\site-packages\\ipykernel_launcher.py:5: SettingWithCopyWarning: \n",
      "A value is trying to be set on a copy of a slice from a DataFrame.\n",
      "Try using .loc[row_indexer,col_indexer] = value instead\n",
      "\n",
      "See the caveats in the documentation: https://pandas.pydata.org/pandas-docs/stable/user_guide/indexing.html#returning-a-view-versus-a-copy\n",
      "  \"\"\"\n"
     ]
    }
   ],
   "source": [
    "data = ql.get('CFTC/133741_FO_L_ALL')\n",
    "interval = 52*3\n",
    "data_cleaned = cleanData(data, \"Currency\", 'Bitcoin')\n",
    "stats_df = get_stats_multi_interval(data_cleaned.loc[:,'Net_Noncommercial_Positions'],[52,52*3,52*5,52*10])\n",
    "df_concate = pd.concat([data_cleaned,stats_df], join='inner', axis=1)\n",
    "summary_df = df_concate.last('1d')\n",
    "bitcoin_data = summary_df"
   ]
  },
  {
   "cell_type": "code",
   "execution_count": 21,
   "metadata": {},
   "outputs": [
    {
     "data": {
      "text/html": [
       "<div>\n",
       "<style scoped>\n",
       "    .dataframe tbody tr th:only-of-type {\n",
       "        vertical-align: middle;\n",
       "    }\n",
       "\n",
       "    .dataframe tbody tr th {\n",
       "        vertical-align: top;\n",
       "    }\n",
       "\n",
       "    .dataframe thead th {\n",
       "        text-align: right;\n",
       "    }\n",
       "</style>\n",
       "<table border=\"1\" class=\"dataframe\">\n",
       "  <thead>\n",
       "    <tr style=\"text-align: right;\">\n",
       "      <th></th>\n",
       "      <th>Date</th>\n",
       "      <th>Asset_Class</th>\n",
       "      <th>Security</th>\n",
       "      <th>Net_Noncommercial_Positions</th>\n",
       "      <th>z_score_1 years</th>\n",
       "      <th>z_score_3 years</th>\n",
       "      <th>z_score_5 years</th>\n",
       "      <th>z_score_10 years</th>\n",
       "    </tr>\n",
       "  </thead>\n",
       "  <tbody>\n",
       "    <tr>\n",
       "      <th>0</th>\n",
       "      <td>2020-08-25</td>\n",
       "      <td>Currency</td>\n",
       "      <td>EURO</td>\n",
       "      <td>212535.0</td>\n",
       "      <td>2.225792</td>\n",
       "      <td>2.309577</td>\n",
       "      <td>2.620122</td>\n",
       "      <td>2.872793</td>\n",
       "    </tr>\n",
       "    <tr>\n",
       "      <th>1</th>\n",
       "      <td>2020-08-25</td>\n",
       "      <td>Currency</td>\n",
       "      <td>USD</td>\n",
       "      <td>-7768.0</td>\n",
       "      <td>-1.704302</td>\n",
       "      <td>-1.560347</td>\n",
       "      <td>-1.695017</td>\n",
       "      <td>-1.445473</td>\n",
       "    </tr>\n",
       "    <tr>\n",
       "      <th>2</th>\n",
       "      <td>2020-08-25</td>\n",
       "      <td>Currency</td>\n",
       "      <td>CAD</td>\n",
       "      <td>-29075.0</td>\n",
       "      <td>-1.140942</td>\n",
       "      <td>-0.720860</td>\n",
       "      <td>-0.561647</td>\n",
       "      <td>-0.645209</td>\n",
       "    </tr>\n",
       "    <tr>\n",
       "      <th>3</th>\n",
       "      <td>2020-08-25</td>\n",
       "      <td>Currency</td>\n",
       "      <td>AUD</td>\n",
       "      <td>-4862.0</td>\n",
       "      <td>1.632207</td>\n",
       "      <td>0.601484</td>\n",
       "      <td>0.166230</td>\n",
       "      <td>-0.143646</td>\n",
       "    </tr>\n",
       "    <tr>\n",
       "      <th>4</th>\n",
       "      <td>2020-08-25</td>\n",
       "      <td>Currency</td>\n",
       "      <td>Bitcoin</td>\n",
       "      <td>-2183.0</td>\n",
       "      <td>-1.071032</td>\n",
       "      <td>NaN</td>\n",
       "      <td>NaN</td>\n",
       "      <td>NaN</td>\n",
       "    </tr>\n",
       "    <tr>\n",
       "      <th>5</th>\n",
       "      <td>2020-08-25</td>\n",
       "      <td>Commodity</td>\n",
       "      <td>Gold</td>\n",
       "      <td>250097.0</td>\n",
       "      <td>-1.365142</td>\n",
       "      <td>0.530587</td>\n",
       "      <td>0.651295</td>\n",
       "      <td>0.972100</td>\n",
       "    </tr>\n",
       "    <tr>\n",
       "      <th>6</th>\n",
       "      <td>2020-08-25</td>\n",
       "      <td>Commodity</td>\n",
       "      <td>Silver</td>\n",
       "      <td>37095.0</td>\n",
       "      <td>-0.627433</td>\n",
       "      <td>0.289982</td>\n",
       "      <td>-0.128056</td>\n",
       "      <td>0.181485</td>\n",
       "    </tr>\n",
       "    <tr>\n",
       "      <th>7</th>\n",
       "      <td>2020-08-25</td>\n",
       "      <td>Commodity</td>\n",
       "      <td>Copper</td>\n",
       "      <td>48338.0</td>\n",
       "      <td>2.275272</td>\n",
       "      <td>1.388806</td>\n",
       "      <td>1.472023</td>\n",
       "      <td>1.913192</td>\n",
       "    </tr>\n",
       "    <tr>\n",
       "      <th>8</th>\n",
       "      <td>2020-08-25</td>\n",
       "      <td>Equities</td>\n",
       "      <td>NASDAQ</td>\n",
       "      <td>22397.0</td>\n",
       "      <td>-0.066827</td>\n",
       "      <td>0.359425</td>\n",
       "      <td>-0.355410</td>\n",
       "      <td>-0.713312</td>\n",
       "    </tr>\n",
       "    <tr>\n",
       "      <th>9</th>\n",
       "      <td>2020-08-25</td>\n",
       "      <td>Equities</td>\n",
       "      <td>S&amp;P500</td>\n",
       "      <td>6249.0</td>\n",
       "      <td>0.376364</td>\n",
       "      <td>0.805436</td>\n",
       "      <td>0.758984</td>\n",
       "      <td>0.398757</td>\n",
       "    </tr>\n",
       "    <tr>\n",
       "      <th>10</th>\n",
       "      <td>2020-08-25</td>\n",
       "      <td>Fixed Income</td>\n",
       "      <td>10 yr US Treasury</td>\n",
       "      <td>74470.0</td>\n",
       "      <td>1.350414</td>\n",
       "      <td>1.275599</td>\n",
       "      <td>0.870495</td>\n",
       "      <td>0.853373</td>\n",
       "    </tr>\n",
       "  </tbody>\n",
       "</table>\n",
       "</div>"
      ],
      "text/plain": [
       "         Date   Asset_Class           Security  Net_Noncommercial_Positions  \\\n",
       "0  2020-08-25      Currency               EURO                     212535.0   \n",
       "1  2020-08-25      Currency                USD                      -7768.0   \n",
       "2  2020-08-25      Currency                CAD                     -29075.0   \n",
       "3  2020-08-25      Currency                AUD                      -4862.0   \n",
       "4  2020-08-25      Currency            Bitcoin                      -2183.0   \n",
       "5  2020-08-25     Commodity               Gold                     250097.0   \n",
       "6  2020-08-25     Commodity             Silver                      37095.0   \n",
       "7  2020-08-25     Commodity             Copper                      48338.0   \n",
       "8  2020-08-25      Equities             NASDAQ                      22397.0   \n",
       "9  2020-08-25      Equities             S&P500                       6249.0   \n",
       "10 2020-08-25  Fixed Income  10 yr US Treasury                      74470.0   \n",
       "\n",
       "    z_score_1 years  z_score_3 years  z_score_5 years  z_score_10 years  \n",
       "0          2.225792         2.309577         2.620122          2.872793  \n",
       "1         -1.704302        -1.560347        -1.695017         -1.445473  \n",
       "2         -1.140942        -0.720860        -0.561647         -0.645209  \n",
       "3          1.632207         0.601484         0.166230         -0.143646  \n",
       "4         -1.071032              NaN              NaN               NaN  \n",
       "5         -1.365142         0.530587         0.651295          0.972100  \n",
       "6         -0.627433         0.289982        -0.128056          0.181485  \n",
       "7          2.275272         1.388806         1.472023          1.913192  \n",
       "8         -0.066827         0.359425        -0.355410         -0.713312  \n",
       "9          0.376364         0.805436         0.758984          0.398757  \n",
       "10         1.350414         1.275599         0.870495          0.853373  "
      ]
     },
     "execution_count": 21,
     "metadata": {},
     "output_type": "execute_result"
    }
   ],
   "source": [
    "Combined_df = pd.concat([eur_data, \n",
    "                         usd_data, \n",
    "                         cad_data, \n",
    "                         aud_data, \n",
    "                         bitcoin_data, \n",
    "                         gold_data, \n",
    "                         silver_data, \n",
    "                         copper_data, \n",
    "                         nasdaq_data, \n",
    "                         sp500_data, \n",
    "                         UST_10_data], join='inner', axis=0)\n",
    "combined_df = Combined_df.reset_index()\n",
    "combined_df"
   ]
  },
  {
   "cell_type": "code",
   "execution_count": 22,
   "metadata": {},
   "outputs": [
    {
     "data": {
      "text/html": [
       "<style  type=\"text/css\" >\n",
       "    #T_0945dc06_ec5a_11ea_895b_c8348e32f095row0_col4 {\n",
       "            background-color:  red;\n",
       "        }    #T_0945dc06_ec5a_11ea_895b_c8348e32f095row0_col5 {\n",
       "            background-color:  red;\n",
       "        }    #T_0945dc06_ec5a_11ea_895b_c8348e32f095row0_col6 {\n",
       "            background-color:  red;\n",
       "        }    #T_0945dc06_ec5a_11ea_895b_c8348e32f095row0_col7 {\n",
       "            background-color:  red;\n",
       "        }    #T_0945dc06_ec5a_11ea_895b_c8348e32f095row1_col4 {\n",
       "            background-color:  red;\n",
       "        }    #T_0945dc06_ec5a_11ea_895b_c8348e32f095row1_col5 {\n",
       "            background-color:  red;\n",
       "        }    #T_0945dc06_ec5a_11ea_895b_c8348e32f095row1_col6 {\n",
       "            background-color:  red;\n",
       "        }    #T_0945dc06_ec5a_11ea_895b_c8348e32f095row1_col7 {\n",
       "            background_color:  green;\n",
       "        }    #T_0945dc06_ec5a_11ea_895b_c8348e32f095row2_col4 {\n",
       "            background_color:  green;\n",
       "        }    #T_0945dc06_ec5a_11ea_895b_c8348e32f095row2_col5 {\n",
       "            background_color:  green;\n",
       "        }    #T_0945dc06_ec5a_11ea_895b_c8348e32f095row2_col6 {\n",
       "            background_color:  green;\n",
       "        }    #T_0945dc06_ec5a_11ea_895b_c8348e32f095row2_col7 {\n",
       "            background_color:  green;\n",
       "        }    #T_0945dc06_ec5a_11ea_895b_c8348e32f095row3_col4 {\n",
       "            background-color:  red;\n",
       "        }    #T_0945dc06_ec5a_11ea_895b_c8348e32f095row3_col5 {\n",
       "            background_color:  green;\n",
       "        }    #T_0945dc06_ec5a_11ea_895b_c8348e32f095row3_col6 {\n",
       "            background_color:  green;\n",
       "        }    #T_0945dc06_ec5a_11ea_895b_c8348e32f095row3_col7 {\n",
       "            background_color:  green;\n",
       "        }    #T_0945dc06_ec5a_11ea_895b_c8348e32f095row4_col4 {\n",
       "            background_color:  green;\n",
       "        }    #T_0945dc06_ec5a_11ea_895b_c8348e32f095row4_col5 {\n",
       "            background_color:  green;\n",
       "        }    #T_0945dc06_ec5a_11ea_895b_c8348e32f095row4_col6 {\n",
       "            background_color:  green;\n",
       "        }    #T_0945dc06_ec5a_11ea_895b_c8348e32f095row4_col7 {\n",
       "            background_color:  green;\n",
       "        }    #T_0945dc06_ec5a_11ea_895b_c8348e32f095row5_col4 {\n",
       "            background_color:  green;\n",
       "        }    #T_0945dc06_ec5a_11ea_895b_c8348e32f095row5_col5 {\n",
       "            background_color:  green;\n",
       "        }    #T_0945dc06_ec5a_11ea_895b_c8348e32f095row5_col6 {\n",
       "            background_color:  green;\n",
       "        }    #T_0945dc06_ec5a_11ea_895b_c8348e32f095row5_col7 {\n",
       "            background_color:  green;\n",
       "        }    #T_0945dc06_ec5a_11ea_895b_c8348e32f095row6_col4 {\n",
       "            background_color:  green;\n",
       "        }    #T_0945dc06_ec5a_11ea_895b_c8348e32f095row6_col5 {\n",
       "            background_color:  green;\n",
       "        }    #T_0945dc06_ec5a_11ea_895b_c8348e32f095row6_col6 {\n",
       "            background_color:  green;\n",
       "        }    #T_0945dc06_ec5a_11ea_895b_c8348e32f095row6_col7 {\n",
       "            background_color:  green;\n",
       "        }    #T_0945dc06_ec5a_11ea_895b_c8348e32f095row7_col4 {\n",
       "            background-color:  red;\n",
       "        }    #T_0945dc06_ec5a_11ea_895b_c8348e32f095row7_col5 {\n",
       "            background_color:  green;\n",
       "        }    #T_0945dc06_ec5a_11ea_895b_c8348e32f095row7_col6 {\n",
       "            background_color:  green;\n",
       "        }    #T_0945dc06_ec5a_11ea_895b_c8348e32f095row7_col7 {\n",
       "            background-color:  red;\n",
       "        }    #T_0945dc06_ec5a_11ea_895b_c8348e32f095row8_col4 {\n",
       "            background_color:  green;\n",
       "        }    #T_0945dc06_ec5a_11ea_895b_c8348e32f095row8_col5 {\n",
       "            background_color:  green;\n",
       "        }    #T_0945dc06_ec5a_11ea_895b_c8348e32f095row8_col6 {\n",
       "            background_color:  green;\n",
       "        }    #T_0945dc06_ec5a_11ea_895b_c8348e32f095row8_col7 {\n",
       "            background_color:  green;\n",
       "        }    #T_0945dc06_ec5a_11ea_895b_c8348e32f095row9_col4 {\n",
       "            background_color:  green;\n",
       "        }    #T_0945dc06_ec5a_11ea_895b_c8348e32f095row9_col5 {\n",
       "            background_color:  green;\n",
       "        }    #T_0945dc06_ec5a_11ea_895b_c8348e32f095row9_col6 {\n",
       "            background_color:  green;\n",
       "        }    #T_0945dc06_ec5a_11ea_895b_c8348e32f095row9_col7 {\n",
       "            background_color:  green;\n",
       "        }    #T_0945dc06_ec5a_11ea_895b_c8348e32f095row10_col4 {\n",
       "            background_color:  green;\n",
       "        }    #T_0945dc06_ec5a_11ea_895b_c8348e32f095row10_col5 {\n",
       "            background_color:  green;\n",
       "        }    #T_0945dc06_ec5a_11ea_895b_c8348e32f095row10_col6 {\n",
       "            background_color:  green;\n",
       "        }    #T_0945dc06_ec5a_11ea_895b_c8348e32f095row10_col7 {\n",
       "            background_color:  green;\n",
       "        }</style><table id=\"T_0945dc06_ec5a_11ea_895b_c8348e32f095\" ><thead>    <tr>        <th class=\"blank level0\" ></th>        <th class=\"col_heading level0 col0\" >Date</th>        <th class=\"col_heading level0 col1\" >Asset_Class</th>        <th class=\"col_heading level0 col2\" >Security</th>        <th class=\"col_heading level0 col3\" >Net_Noncommercial_Positions</th>        <th class=\"col_heading level0 col4\" >z_score_1 years</th>        <th class=\"col_heading level0 col5\" >z_score_3 years</th>        <th class=\"col_heading level0 col6\" >z_score_5 years</th>        <th class=\"col_heading level0 col7\" >z_score_10 years</th>    </tr></thead><tbody>\n",
       "                <tr>\n",
       "                        <th id=\"T_0945dc06_ec5a_11ea_895b_c8348e32f095level0_row0\" class=\"row_heading level0 row0\" >0</th>\n",
       "                        <td id=\"T_0945dc06_ec5a_11ea_895b_c8348e32f095row0_col0\" class=\"data row0 col0\" >2020-08-25 00:00:00</td>\n",
       "                        <td id=\"T_0945dc06_ec5a_11ea_895b_c8348e32f095row0_col1\" class=\"data row0 col1\" >Currency</td>\n",
       "                        <td id=\"T_0945dc06_ec5a_11ea_895b_c8348e32f095row0_col2\" class=\"data row0 col2\" >EURO</td>\n",
       "                        <td id=\"T_0945dc06_ec5a_11ea_895b_c8348e32f095row0_col3\" class=\"data row0 col3\" >212535.000000</td>\n",
       "                        <td id=\"T_0945dc06_ec5a_11ea_895b_c8348e32f095row0_col4\" class=\"data row0 col4\" >2.225792</td>\n",
       "                        <td id=\"T_0945dc06_ec5a_11ea_895b_c8348e32f095row0_col5\" class=\"data row0 col5\" >2.309577</td>\n",
       "                        <td id=\"T_0945dc06_ec5a_11ea_895b_c8348e32f095row0_col6\" class=\"data row0 col6\" >2.620122</td>\n",
       "                        <td id=\"T_0945dc06_ec5a_11ea_895b_c8348e32f095row0_col7\" class=\"data row0 col7\" >2.872793</td>\n",
       "            </tr>\n",
       "            <tr>\n",
       "                        <th id=\"T_0945dc06_ec5a_11ea_895b_c8348e32f095level0_row1\" class=\"row_heading level0 row1\" >1</th>\n",
       "                        <td id=\"T_0945dc06_ec5a_11ea_895b_c8348e32f095row1_col0\" class=\"data row1 col0\" >2020-08-25 00:00:00</td>\n",
       "                        <td id=\"T_0945dc06_ec5a_11ea_895b_c8348e32f095row1_col1\" class=\"data row1 col1\" >Currency</td>\n",
       "                        <td id=\"T_0945dc06_ec5a_11ea_895b_c8348e32f095row1_col2\" class=\"data row1 col2\" >USD</td>\n",
       "                        <td id=\"T_0945dc06_ec5a_11ea_895b_c8348e32f095row1_col3\" class=\"data row1 col3\" >-7768.000000</td>\n",
       "                        <td id=\"T_0945dc06_ec5a_11ea_895b_c8348e32f095row1_col4\" class=\"data row1 col4\" >-1.704302</td>\n",
       "                        <td id=\"T_0945dc06_ec5a_11ea_895b_c8348e32f095row1_col5\" class=\"data row1 col5\" >-1.560347</td>\n",
       "                        <td id=\"T_0945dc06_ec5a_11ea_895b_c8348e32f095row1_col6\" class=\"data row1 col6\" >-1.695017</td>\n",
       "                        <td id=\"T_0945dc06_ec5a_11ea_895b_c8348e32f095row1_col7\" class=\"data row1 col7\" >-1.445473</td>\n",
       "            </tr>\n",
       "            <tr>\n",
       "                        <th id=\"T_0945dc06_ec5a_11ea_895b_c8348e32f095level0_row2\" class=\"row_heading level0 row2\" >2</th>\n",
       "                        <td id=\"T_0945dc06_ec5a_11ea_895b_c8348e32f095row2_col0\" class=\"data row2 col0\" >2020-08-25 00:00:00</td>\n",
       "                        <td id=\"T_0945dc06_ec5a_11ea_895b_c8348e32f095row2_col1\" class=\"data row2 col1\" >Currency</td>\n",
       "                        <td id=\"T_0945dc06_ec5a_11ea_895b_c8348e32f095row2_col2\" class=\"data row2 col2\" >CAD</td>\n",
       "                        <td id=\"T_0945dc06_ec5a_11ea_895b_c8348e32f095row2_col3\" class=\"data row2 col3\" >-29075.000000</td>\n",
       "                        <td id=\"T_0945dc06_ec5a_11ea_895b_c8348e32f095row2_col4\" class=\"data row2 col4\" >-1.140942</td>\n",
       "                        <td id=\"T_0945dc06_ec5a_11ea_895b_c8348e32f095row2_col5\" class=\"data row2 col5\" >-0.720860</td>\n",
       "                        <td id=\"T_0945dc06_ec5a_11ea_895b_c8348e32f095row2_col6\" class=\"data row2 col6\" >-0.561647</td>\n",
       "                        <td id=\"T_0945dc06_ec5a_11ea_895b_c8348e32f095row2_col7\" class=\"data row2 col7\" >-0.645209</td>\n",
       "            </tr>\n",
       "            <tr>\n",
       "                        <th id=\"T_0945dc06_ec5a_11ea_895b_c8348e32f095level0_row3\" class=\"row_heading level0 row3\" >3</th>\n",
       "                        <td id=\"T_0945dc06_ec5a_11ea_895b_c8348e32f095row3_col0\" class=\"data row3 col0\" >2020-08-25 00:00:00</td>\n",
       "                        <td id=\"T_0945dc06_ec5a_11ea_895b_c8348e32f095row3_col1\" class=\"data row3 col1\" >Currency</td>\n",
       "                        <td id=\"T_0945dc06_ec5a_11ea_895b_c8348e32f095row3_col2\" class=\"data row3 col2\" >AUD</td>\n",
       "                        <td id=\"T_0945dc06_ec5a_11ea_895b_c8348e32f095row3_col3\" class=\"data row3 col3\" >-4862.000000</td>\n",
       "                        <td id=\"T_0945dc06_ec5a_11ea_895b_c8348e32f095row3_col4\" class=\"data row3 col4\" >1.632207</td>\n",
       "                        <td id=\"T_0945dc06_ec5a_11ea_895b_c8348e32f095row3_col5\" class=\"data row3 col5\" >0.601484</td>\n",
       "                        <td id=\"T_0945dc06_ec5a_11ea_895b_c8348e32f095row3_col6\" class=\"data row3 col6\" >0.166230</td>\n",
       "                        <td id=\"T_0945dc06_ec5a_11ea_895b_c8348e32f095row3_col7\" class=\"data row3 col7\" >-0.143646</td>\n",
       "            </tr>\n",
       "            <tr>\n",
       "                        <th id=\"T_0945dc06_ec5a_11ea_895b_c8348e32f095level0_row4\" class=\"row_heading level0 row4\" >4</th>\n",
       "                        <td id=\"T_0945dc06_ec5a_11ea_895b_c8348e32f095row4_col0\" class=\"data row4 col0\" >2020-08-25 00:00:00</td>\n",
       "                        <td id=\"T_0945dc06_ec5a_11ea_895b_c8348e32f095row4_col1\" class=\"data row4 col1\" >Currency</td>\n",
       "                        <td id=\"T_0945dc06_ec5a_11ea_895b_c8348e32f095row4_col2\" class=\"data row4 col2\" >Bitcoin</td>\n",
       "                        <td id=\"T_0945dc06_ec5a_11ea_895b_c8348e32f095row4_col3\" class=\"data row4 col3\" >-2183.000000</td>\n",
       "                        <td id=\"T_0945dc06_ec5a_11ea_895b_c8348e32f095row4_col4\" class=\"data row4 col4\" >-1.071032</td>\n",
       "                        <td id=\"T_0945dc06_ec5a_11ea_895b_c8348e32f095row4_col5\" class=\"data row4 col5\" >nan</td>\n",
       "                        <td id=\"T_0945dc06_ec5a_11ea_895b_c8348e32f095row4_col6\" class=\"data row4 col6\" >nan</td>\n",
       "                        <td id=\"T_0945dc06_ec5a_11ea_895b_c8348e32f095row4_col7\" class=\"data row4 col7\" >nan</td>\n",
       "            </tr>\n",
       "            <tr>\n",
       "                        <th id=\"T_0945dc06_ec5a_11ea_895b_c8348e32f095level0_row5\" class=\"row_heading level0 row5\" >5</th>\n",
       "                        <td id=\"T_0945dc06_ec5a_11ea_895b_c8348e32f095row5_col0\" class=\"data row5 col0\" >2020-08-25 00:00:00</td>\n",
       "                        <td id=\"T_0945dc06_ec5a_11ea_895b_c8348e32f095row5_col1\" class=\"data row5 col1\" >Commodity</td>\n",
       "                        <td id=\"T_0945dc06_ec5a_11ea_895b_c8348e32f095row5_col2\" class=\"data row5 col2\" >Gold</td>\n",
       "                        <td id=\"T_0945dc06_ec5a_11ea_895b_c8348e32f095row5_col3\" class=\"data row5 col3\" >250097.000000</td>\n",
       "                        <td id=\"T_0945dc06_ec5a_11ea_895b_c8348e32f095row5_col4\" class=\"data row5 col4\" >-1.365142</td>\n",
       "                        <td id=\"T_0945dc06_ec5a_11ea_895b_c8348e32f095row5_col5\" class=\"data row5 col5\" >0.530587</td>\n",
       "                        <td id=\"T_0945dc06_ec5a_11ea_895b_c8348e32f095row5_col6\" class=\"data row5 col6\" >0.651295</td>\n",
       "                        <td id=\"T_0945dc06_ec5a_11ea_895b_c8348e32f095row5_col7\" class=\"data row5 col7\" >0.972100</td>\n",
       "            </tr>\n",
       "            <tr>\n",
       "                        <th id=\"T_0945dc06_ec5a_11ea_895b_c8348e32f095level0_row6\" class=\"row_heading level0 row6\" >6</th>\n",
       "                        <td id=\"T_0945dc06_ec5a_11ea_895b_c8348e32f095row6_col0\" class=\"data row6 col0\" >2020-08-25 00:00:00</td>\n",
       "                        <td id=\"T_0945dc06_ec5a_11ea_895b_c8348e32f095row6_col1\" class=\"data row6 col1\" >Commodity</td>\n",
       "                        <td id=\"T_0945dc06_ec5a_11ea_895b_c8348e32f095row6_col2\" class=\"data row6 col2\" >Silver</td>\n",
       "                        <td id=\"T_0945dc06_ec5a_11ea_895b_c8348e32f095row6_col3\" class=\"data row6 col3\" >37095.000000</td>\n",
       "                        <td id=\"T_0945dc06_ec5a_11ea_895b_c8348e32f095row6_col4\" class=\"data row6 col4\" >-0.627433</td>\n",
       "                        <td id=\"T_0945dc06_ec5a_11ea_895b_c8348e32f095row6_col5\" class=\"data row6 col5\" >0.289982</td>\n",
       "                        <td id=\"T_0945dc06_ec5a_11ea_895b_c8348e32f095row6_col6\" class=\"data row6 col6\" >-0.128056</td>\n",
       "                        <td id=\"T_0945dc06_ec5a_11ea_895b_c8348e32f095row6_col7\" class=\"data row6 col7\" >0.181485</td>\n",
       "            </tr>\n",
       "            <tr>\n",
       "                        <th id=\"T_0945dc06_ec5a_11ea_895b_c8348e32f095level0_row7\" class=\"row_heading level0 row7\" >7</th>\n",
       "                        <td id=\"T_0945dc06_ec5a_11ea_895b_c8348e32f095row7_col0\" class=\"data row7 col0\" >2020-08-25 00:00:00</td>\n",
       "                        <td id=\"T_0945dc06_ec5a_11ea_895b_c8348e32f095row7_col1\" class=\"data row7 col1\" >Commodity</td>\n",
       "                        <td id=\"T_0945dc06_ec5a_11ea_895b_c8348e32f095row7_col2\" class=\"data row7 col2\" >Copper</td>\n",
       "                        <td id=\"T_0945dc06_ec5a_11ea_895b_c8348e32f095row7_col3\" class=\"data row7 col3\" >48338.000000</td>\n",
       "                        <td id=\"T_0945dc06_ec5a_11ea_895b_c8348e32f095row7_col4\" class=\"data row7 col4\" >2.275272</td>\n",
       "                        <td id=\"T_0945dc06_ec5a_11ea_895b_c8348e32f095row7_col5\" class=\"data row7 col5\" >1.388806</td>\n",
       "                        <td id=\"T_0945dc06_ec5a_11ea_895b_c8348e32f095row7_col6\" class=\"data row7 col6\" >1.472023</td>\n",
       "                        <td id=\"T_0945dc06_ec5a_11ea_895b_c8348e32f095row7_col7\" class=\"data row7 col7\" >1.913192</td>\n",
       "            </tr>\n",
       "            <tr>\n",
       "                        <th id=\"T_0945dc06_ec5a_11ea_895b_c8348e32f095level0_row8\" class=\"row_heading level0 row8\" >8</th>\n",
       "                        <td id=\"T_0945dc06_ec5a_11ea_895b_c8348e32f095row8_col0\" class=\"data row8 col0\" >2020-08-25 00:00:00</td>\n",
       "                        <td id=\"T_0945dc06_ec5a_11ea_895b_c8348e32f095row8_col1\" class=\"data row8 col1\" >Equities</td>\n",
       "                        <td id=\"T_0945dc06_ec5a_11ea_895b_c8348e32f095row8_col2\" class=\"data row8 col2\" >NASDAQ</td>\n",
       "                        <td id=\"T_0945dc06_ec5a_11ea_895b_c8348e32f095row8_col3\" class=\"data row8 col3\" >22397.000000</td>\n",
       "                        <td id=\"T_0945dc06_ec5a_11ea_895b_c8348e32f095row8_col4\" class=\"data row8 col4\" >-0.066827</td>\n",
       "                        <td id=\"T_0945dc06_ec5a_11ea_895b_c8348e32f095row8_col5\" class=\"data row8 col5\" >0.359425</td>\n",
       "                        <td id=\"T_0945dc06_ec5a_11ea_895b_c8348e32f095row8_col6\" class=\"data row8 col6\" >-0.355410</td>\n",
       "                        <td id=\"T_0945dc06_ec5a_11ea_895b_c8348e32f095row8_col7\" class=\"data row8 col7\" >-0.713312</td>\n",
       "            </tr>\n",
       "            <tr>\n",
       "                        <th id=\"T_0945dc06_ec5a_11ea_895b_c8348e32f095level0_row9\" class=\"row_heading level0 row9\" >9</th>\n",
       "                        <td id=\"T_0945dc06_ec5a_11ea_895b_c8348e32f095row9_col0\" class=\"data row9 col0\" >2020-08-25 00:00:00</td>\n",
       "                        <td id=\"T_0945dc06_ec5a_11ea_895b_c8348e32f095row9_col1\" class=\"data row9 col1\" >Equities</td>\n",
       "                        <td id=\"T_0945dc06_ec5a_11ea_895b_c8348e32f095row9_col2\" class=\"data row9 col2\" >S&P500</td>\n",
       "                        <td id=\"T_0945dc06_ec5a_11ea_895b_c8348e32f095row9_col3\" class=\"data row9 col3\" >6249.000000</td>\n",
       "                        <td id=\"T_0945dc06_ec5a_11ea_895b_c8348e32f095row9_col4\" class=\"data row9 col4\" >0.376364</td>\n",
       "                        <td id=\"T_0945dc06_ec5a_11ea_895b_c8348e32f095row9_col5\" class=\"data row9 col5\" >0.805436</td>\n",
       "                        <td id=\"T_0945dc06_ec5a_11ea_895b_c8348e32f095row9_col6\" class=\"data row9 col6\" >0.758984</td>\n",
       "                        <td id=\"T_0945dc06_ec5a_11ea_895b_c8348e32f095row9_col7\" class=\"data row9 col7\" >0.398757</td>\n",
       "            </tr>\n",
       "            <tr>\n",
       "                        <th id=\"T_0945dc06_ec5a_11ea_895b_c8348e32f095level0_row10\" class=\"row_heading level0 row10\" >10</th>\n",
       "                        <td id=\"T_0945dc06_ec5a_11ea_895b_c8348e32f095row10_col0\" class=\"data row10 col0\" >2020-08-25 00:00:00</td>\n",
       "                        <td id=\"T_0945dc06_ec5a_11ea_895b_c8348e32f095row10_col1\" class=\"data row10 col1\" >Fixed Income</td>\n",
       "                        <td id=\"T_0945dc06_ec5a_11ea_895b_c8348e32f095row10_col2\" class=\"data row10 col2\" >10 yr US Treasury</td>\n",
       "                        <td id=\"T_0945dc06_ec5a_11ea_895b_c8348e32f095row10_col3\" class=\"data row10 col3\" >74470.000000</td>\n",
       "                        <td id=\"T_0945dc06_ec5a_11ea_895b_c8348e32f095row10_col4\" class=\"data row10 col4\" >1.350414</td>\n",
       "                        <td id=\"T_0945dc06_ec5a_11ea_895b_c8348e32f095row10_col5\" class=\"data row10 col5\" >1.275599</td>\n",
       "                        <td id=\"T_0945dc06_ec5a_11ea_895b_c8348e32f095row10_col6\" class=\"data row10 col6\" >0.870495</td>\n",
       "                        <td id=\"T_0945dc06_ec5a_11ea_895b_c8348e32f095row10_col7\" class=\"data row10 col7\" >0.853373</td>\n",
       "            </tr>\n",
       "    </tbody></table>"
      ],
      "text/plain": [
       "<pandas.io.formats.style.Styler at 0x21035e7be08>"
      ]
     },
     "execution_count": 22,
     "metadata": {},
     "output_type": "execute_result"
    }
   ],
   "source": [
    "#Conditional formatting\n",
    "overbought_threshold = 1.5\n",
    "oversold_threshold = -1.5\n",
    "\n",
    "df_styled = combined_df.style\\\n",
    "    .applymap(lambda x: 'background-color: %s' % 'red' if x > overbought_threshold or x < oversold_threshold else 'background_color: %s' % 'green', subset=['z_score_1 years'])\\\n",
    "    .applymap(lambda x: 'background-color: %s' % 'red' if x > overbought_threshold or x < oversold_threshold else 'background_color: %s' % 'green', subset=['z_score_3 years'])\\\n",
    "    .applymap(lambda x: 'background-color: %s' % 'red' if x > overbought_threshold or x < oversold_threshold else 'background_color: %s' % 'green', subset=['z_score_5 years'])\\\n",
    "    .applymap(lambda x: 'background-color: %s' % 'red' if x > overbought_threshold or x < oversold_threshold else 'background_color: %s' % 'green', subset=['z_score_10 years'])\\\n",
    "\n",
    "df_styled"
   ]
  },
  {
   "cell_type": "code",
   "execution_count": null,
   "metadata": {},
   "outputs": [],
   "source": []
  }
 ],
 "metadata": {
  "kernelspec": {
   "display_name": "Python 3",
   "language": "python",
   "name": "python3"
  },
  "language_info": {
   "codemirror_mode": {
    "name": "ipython",
    "version": 3
   },
   "file_extension": ".py",
   "mimetype": "text/x-python",
   "name": "python",
   "nbconvert_exporter": "python",
   "pygments_lexer": "ipython3",
   "version": "3.7.7"
  }
 },
 "nbformat": 4,
 "nbformat_minor": 4
}
